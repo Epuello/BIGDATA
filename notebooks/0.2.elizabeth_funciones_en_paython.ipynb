{
 "cells": [
  {
   "cell_type": "markdown",
   "metadata": {},
   "source": [
    "Funciones en Python"
   ]
  },
  {
   "cell_type": "code",
   "execution_count": 2,
   "metadata": {},
   "outputs": [
    {
     "data": {
      "text/plain": [
       "8"
      ]
     },
     "execution_count": 2,
     "metadata": {},
     "output_type": "execute_result"
    }
   ],
   "source": [
    "#Funciones de X F(x)= x+5 f(x=3)=8\n",
    "\n",
    "def f(x):\n",
    "    resultado=x+5\n",
    "    return resultado\n",
    "\n",
    "f(x=3)"
   ]
  },
  {
   "cell_type": "markdown",
   "metadata": {},
   "source": [
    "Pseudo-Codigo"
   ]
  },
  {
   "cell_type": "code",
   "execution_count": null,
   "metadata": {},
   "outputs": [],
   "source": [
    "#Obtener el valor de la suma de los numeros de una lista\n",
    "#Obtener el valor minimo y maximo\n",
    "#Obtener la media y desviacion estandar\n",
    "\n",
    "#calcular_valores(lista de numeros)\n",
    "#   suma = calcular_suma(lista de numeros)\n",
    "#   media,dev_std = calcular_valores_centrales(lista de numeros)\n",
    "#   min_val, max_valor = calcular_extremos(lista de numeros)\n",
    "#   return suma, media,dev_std,min_val,max_val"
   ]
  },
  {
   "cell_type": "code",
   "execution_count": 15,
   "metadata": {},
   "outputs": [],
   "source": [
    "import numpy as np\n",
    "\n",
    "def calcular_extremos(lista_numeros):\n",
    "    min_val = np.min(lista_numeros)\n",
    "    max_val = np.max(lista_numeros)\n",
    "    return min_val, max_val\n",
    "\n",
    "def calcular_valores_centrales(lista_numeros):\n",
    "    media= np.mean(lista_numeros)\n",
    "    dev_std          = np.std(lista_numeros)\n",
    "    return media, dev_std\n",
    "\n",
    "def calcular_suma(lista_numeros):\n",
    "    resultado        =np.sum(lista_numeros)\n",
    "    return resultado\n",
    "\n",
    "def calcular_valores(lista_numeros):\n",
    "    suma             =calcular_suma(lista_numeros)\n",
    "    media, dev_std   =calcular_valores_centrales(lista_numeros)\n",
    "    min_val, max_val =calcular_extremos(lista_numeros)\n",
    "\n",
    "\n",
    "    return suma, media, dev_std, min_val, max_val"
   ]
  },
  {
   "cell_type": "code",
   "execution_count": 16,
   "metadata": {},
   "outputs": [
    {
     "data": {
      "text/plain": [
       "(71, 11.833333333333334, 15.082182276521598, 1, 45)"
      ]
     },
     "execution_count": 16,
     "metadata": {},
     "output_type": "execute_result"
    }
   ],
   "source": [
    "lista_numeros=[1, 5 , 8, 3, 45, 9]\n",
    "\n",
    "calcular_valores(lista_numeros)"
   ]
  }
 ],
 "metadata": {
  "kernelspec": {
   "display_name": "Python 3.9.12 ('base')",
   "language": "python",
   "name": "python3"
  },
  "language_info": {
   "codemirror_mode": {
    "name": "ipython",
    "version": 3
   },
   "file_extension": ".py",
   "mimetype": "text/x-python",
   "name": "python",
   "nbconvert_exporter": "python",
   "pygments_lexer": "ipython3",
   "version": "3.9.12"
  },
  "orig_nbformat": 4,
  "vscode": {
   "interpreter": {
    "hash": "129c29d1db5f4e95b07d90a90cef4a8ef93a24ebd2b2dcac9dc2a5de028596f4"
   }
  }
 },
 "nbformat": 4,
 "nbformat_minor": 2
}
